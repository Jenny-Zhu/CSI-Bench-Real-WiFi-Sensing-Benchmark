{
 "cells": [
  {
   "cell_type": "markdown",
   "id": "d93e0831-7ecb-41fe-b340-b9135c13ed13",
   "metadata": {},
   "source": [
    "## Check the running training job by code"
   ]
  },
  {
   "cell_type": "code",
   "execution_count": 2,
   "id": "00e47687-c59c-49cf-930f-cf293a233633",
   "metadata": {},
   "outputs": [
    {
     "name": "stdout",
     "output_type": "stream",
     "text": [
      "Currently running SageMaker training jobs:\n"
     ]
    }
   ],
   "source": [
    "import boto3\n",
    "\n",
    "# Create a SageMaker client\n",
    "sm_client = boto3.client('sagemaker')\n",
    "\n",
    "# List training jobs that are currently in progress\n",
    "response = sm_client.list_training_jobs(\n",
    "    StatusEquals='InProgress',        # Filter for jobs still running\n",
    "    SortBy='CreationTime',            # Sort by time created\n",
    "    SortOrder='Descending',           # Most recent first\n",
    "    MaxResults=10                     # Limit the number of results\n",
    ")\n",
    "\n",
    "print(\"Currently running SageMaker training jobs:\")\n",
    "for job in response['TrainingJobSummaries']:\n",
    "    print(f\"- {job['TrainingJobName']} | Created: {job['CreationTime']}\")\n"
   ]
  },
  {
   "cell_type": "markdown",
   "id": "83e78426-b68c-4b1d-85a2-cdcb42a614c8",
   "metadata": {},
   "source": [
    "## Manual Check AWS Sagemaker Training Dashboard\n",
    "\n",
    "https://console.aws.amazon.com/sagemaker/"
   ]
  },
  {
   "cell_type": "markdown",
   "id": "54bfd4b3-4d06-4e51-ab3f-ad5a360447e2",
   "metadata": {},
   "source": [
    "## Check the saved model"
   ]
  },
  {
   "cell_type": "code",
   "execution_count": 4,
   "id": "d5ba3d08-f047-4cc9-a3a0-364e84aab49a",
   "metadata": {},
   "outputs": [
    {
     "name": "stdout",
     "output_type": "stream",
     "text": [
      "Requirement already satisfied: einops in /opt/conda/lib/python3.11/site-packages (0.8.1)\n",
      "Downloading from s3://rnd-sagemaker/Foundation_Model_Log/wifi-ssl-training-2025-04-10-20-18-05-201/output/model.tar.gz ...\n",
      "Download complete.\n",
      "Model extracted to: /tmp/model\n",
      "✅ Model loaded and ready for inference.\n"
     ]
    },
    {
     "name": "stderr",
     "output_type": "stream",
     "text": [
      "/tmp/ipykernel_176/2456974291.py:42: FutureWarning: You are using `torch.load` with `weights_only=False` (the current default value), which uses the default pickle module implicitly. It is possible to construct malicious pickle data which will execute arbitrary code during unpickling (See https://github.com/pytorch/pytorch/blob/main/SECURITY.md#untrusted-models for more details). In a future release, the default value for `weights_only` will be flipped to `True`. This limits the functions that could be executed during unpickling. Arbitrary objects will no longer be allowed to be loaded via this mode unless they are explicitly allowlisted by the user via `torch.serialization.add_safe_globals`. We recommend you start setting `weights_only=True` for any use case where you don't have full control of the loaded file. Please open an issue on GitHub for any issues related to this experimental feature.\n",
      "  checkpoint = torch.load(checkpoint_path, map_location=torch.device('cpu'))\n",
      "/opt/conda/lib/python3.11/site-packages/torch/nn/modules/transformer.py:307: UserWarning: enable_nested_tensor is True, but self.use_nested_tensor is False because encoder_layer was not TransformerEncoderLayer\n",
      "  warnings.warn(f\"enable_nested_tensor is True, but self.use_nested_tensor is False because {why_not_sparsity_fast_path}\")\n"
     ]
    }
   ],
   "source": [
    "import os\n",
    "import tarfile\n",
    "import boto3\n",
    "import torch\n",
    "!pip install einops\n",
    "# Import your model class definition\n",
    "from model import ViT_MultiTask  # Update this path if your model is elsewhere\n",
    "\n",
    "# ---------------------------------------------\n",
    "# Step 1: Set S3 bucket and model path\n",
    "# ---------------------------------------------\n",
    "bucket_name = 'rnd-sagemaker'\n",
    "s3_key = 'Foundation_Model_Log/wifi-ssl-training-2025-04-10-20-18-05-201/output/model.tar.gz'\n",
    "\n",
    "# Local temporary directory\n",
    "local_model_tar = '/tmp/model.tar.gz'\n",
    "extracted_model_dir = '/tmp/model'\n",
    "\n",
    "# Create the directory if not exists\n",
    "os.makedirs(extracted_model_dir, exist_ok=True)\n",
    "\n",
    "# ---------------------------------------------\n",
    "# Step 2: Download the model tar.gz from S3\n",
    "# ---------------------------------------------\n",
    "s3 = boto3.client('s3')\n",
    "print(f\"Downloading from s3://{bucket_name}/{s3_key} ...\")\n",
    "s3.download_file(bucket_name, s3_key, local_model_tar)\n",
    "print(\"Download complete.\")\n",
    "\n",
    "# ---------------------------------------------\n",
    "# Step 3: Extract the tar.gz file\n",
    "# ---------------------------------------------\n",
    "with tarfile.open(local_model_tar, 'r:gz') as tar:\n",
    "    tar.extractall(path=extracted_model_dir)\n",
    "print(f\"Model extracted to: {extracted_model_dir}\")\n",
    "\n",
    "# ---------------------------------------------\n",
    "# Step 4: Load the model checkpoint\n",
    "# ---------------------------------------------\n",
    "# Update this path if the checkpoint name is different\n",
    "checkpoint_path = os.path.join(extracted_model_dir, 'test_ssl_run/ViT/best_model_checkpoint_ssl.pth.tar')\n",
    "checkpoint = torch.load(checkpoint_path, map_location=torch.device('cpu'))\n",
    "\n",
    "# Rebuild the model structure exactly as in training\n",
    "model = ViT_MultiTask(\n",
    "    emb_dim=128,\n",
    "    encoder_heads=4,\n",
    "    encoder_layers=6,\n",
    "    encoder_ff_dim=512,\n",
    "    encoder_dropout=0.1,\n",
    "    recon_heads=4,\n",
    "    recon_layers=3,\n",
    "    recon_ff_dim=512,\n",
    "    recon_dropout=0.1,\n",
    "    num_classes=3,\n",
    "    c_out=16,\n",
    "    freq_out=10,\n",
    "    max_len=512\n",
    ")\n",
    "\n",
    "# Load the trained weights\n",
    "model.load_state_dict(checkpoint['model_state_dict'])\n",
    "model.eval()  # Set model to evaluation mode\n",
    "\n",
    "print(\"Model loaded and ready for inference.\")\n"
   ]
  },
  {
   "cell_type": "code",
   "execution_count": null,
   "id": "95a2ff62-d4e1-4ba5-9dc3-8b9557364b31",
   "metadata": {},
   "outputs": [],
   "source": []
  }
 ],
 "metadata": {
  "kernelspec": {
   "display_name": "Python 3 (ipykernel)",
   "language": "python",
   "name": "python3"
  },
  "language_info": {
   "codemirror_mode": {
    "name": "ipython",
    "version": 3
   },
   "file_extension": ".py",
   "mimetype": "text/x-python",
   "name": "python",
   "nbconvert_exporter": "python",
   "pygments_lexer": "ipython3",
   "version": "3.11.11"
  }
 },
 "nbformat": 4,
 "nbformat_minor": 5
}
